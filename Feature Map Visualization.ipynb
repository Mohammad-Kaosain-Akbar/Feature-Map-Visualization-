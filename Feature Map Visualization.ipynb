{
 "cells": [
  {
   "cell_type": "code",
   "execution_count": null,
   "id": "3897f8cf",
   "metadata": {},
   "outputs": [],
   "source": [
    "import numpy as np\n",
    "from tensorflow.keras.models import Sequential\n",
    "from tensorflow.keras.layers import Conv1D, MaxPooling1D, Flatten, Dense\n",
    "from matplotlib import pyplot as plt\n",
    "\n",
    "# Set the input dimensions\n",
    "input_dim = 10\n",
    "\n",
    "# Create a sequential model\n",
    "model = Sequential()\n",
    "\n",
    "# Add a 1D convolutional layer with 32 filters and a kernel size of 3\n",
    "model.add(Conv1D(32, 3, padding='same', input_shape=(None, input_dim)))\n",
    "\n",
    "# Add a max pooling layer with a pool size of 2\n",
    "model.add(MaxPooling1D(2))\n",
    "\n",
    "# Flatten the output of the convolutional layers\n",
    "model.add(Flatten())\n",
    "\n",
    "# Add a fully connected layer with 1 unit and sigmoid activation\n",
    "model.add(Dense(1, activation='sigmoid'))\n",
    "\n",
    "# Compile the model using binary cross-entropy loss and Adam optimization\n",
    "model.compile(loss='binary_crossentropy', optimizer='adam')\n",
    "\n",
    "# Generate some dummy data for training\n",
    "x_train = np.random.random((1000, 10, input_dim))\n",
    "y_train = np.random.randint(0, 2, (1000, 1))\n",
    "\n",
    "# Train the model for 10 epochs\n",
    "model.fit(x_train, y_train, epochs=10)\n",
    "\n",
    "# Generate some dummy data for testing\n",
    "x_test = np.random.random((100, 10, input_dim))\n",
    "\n",
    "# Use the trained model to make predictions on the test data\n",
    "predictions = model.predict(x_test)\n",
    "\n",
    "# Generate the feature map for the first sample in the test data\n",
    "sample_idx = 0\n",
    "feature_map = model.get_layer(index=0).output\n",
    "\n",
    "# Plot the feature map\n",
    "plt.imshow(feature_map[sample_idx], cmap='viridis')\n",
    "plt.colorbar()\n",
    "plt.show()\n"
   ]
  }
 ],
 "metadata": {
  "kernelspec": {
   "display_name": "Python 3 (ipykernel)",
   "language": "python",
   "name": "python3"
  },
  "language_info": {
   "codemirror_mode": {
    "name": "ipython",
    "version": 3
   },
   "file_extension": ".py",
   "mimetype": "text/x-python",
   "name": "python",
   "nbconvert_exporter": "python",
   "pygments_lexer": "ipython3",
   "version": "3.9.7"
  }
 },
 "nbformat": 4,
 "nbformat_minor": 5
}
